{
 "cells": [
  {
   "cell_type": "code",
   "execution_count": null,
   "metadata": {},
   "outputs": [],
   "source": [
    "import matplotlib.pyplot as plt\n",
    "import pandas as pd\n",
    "import scipy.stats as st\n",
    "from sklearn import datasets\n",
    "import numpy as np\n",
    "from scipy.stats import linregress\n",
    "\n",
    "# Study data files\n",
    "mouse_metadata_path = \"data/Mouse_metadata.csv\"\n",
    "study_results_path = \"data/Study_results.csv\"\n",
    "\n",
    "# Read the mouse data and the study results\n",
    "mouse_metadata = pd.read_csv(mouse_metadata_path)\n",
    "study_results = pd.read_csv(study_results_path)\n",
    "\n",
    "# Combine the data into a single dataset\n",
    "combined_data_df = mouse_metadata.merge(study_results, on=\"Mouse ID\")\n",
    "\n",
    "# Display the data table for preview\n",
    "combined_data_df"
   ]
  },
  {
   "cell_type": "code",
   "execution_count": null,
   "metadata": {},
   "outputs": [],
   "source": [
    "# Checking the number of mice.\n",
    "combined_data_df[\"Mouse ID\"].nunique()"
   ]
  },
  {
   "cell_type": "code",
   "execution_count": null,
   "metadata": {},
   "outputs": [],
   "source": [
    "# Getting the duplicate mice by ID number that shows up for Mouse ID and Timepoint.\n",
    "duplicates_df = combined_data_df[combined_data_df.duplicated([\"Mouse ID\",\"Timepoint\"])]\n",
    "#duplicates_df[\"Mouse ID\"]"
   ]
  },
  {
   "cell_type": "code",
   "execution_count": null,
   "metadata": {},
   "outputs": [],
   "source": [
    "# Optional: Get all the data for the duplicate mouse ID. \n",
    "duplicates_df"
   ]
  },
  {
   "cell_type": "code",
   "execution_count": null,
   "metadata": {},
   "outputs": [],
   "source": [
    "# Create a clean DataFrame by dropping the duplicate mouse by its ID.\n",
    "cleaned_df = combined_data_df.drop_duplicates([\"Mouse ID\"])\n",
    "#cleaned_df"
   ]
  },
  {
   "cell_type": "code",
   "execution_count": null,
   "metadata": {},
   "outputs": [],
   "source": [
    "# Checking the number of mice in the clean DataFrame.\n",
    "cleaned_df[\"Mouse ID\"]"
   ]
  },
  {
   "cell_type": "code",
   "execution_count": null,
   "metadata": {},
   "outputs": [],
   "source": [
    "# Generate a summary statistics table of mean, median, variance, standard deviation, and SEM of the tumor volume for each regimen\n",
    "\n",
    "# This method is the most straighforward, creating multiple series and putting them all together at the end.\n",
    "\n",
    "cleaned_df.describe()"
   ]
  },
  {
   "cell_type": "code",
   "execution_count": null,
   "metadata": {},
   "outputs": [],
   "source": [
    "# Generate a summary statistics table of mean, median, variance, standard deviation, and SEM of the tumor volume for each regimen\n",
    "\n",
    "# This method produces everything in a single groupby function\n",
    "\n",
    "grouped_drugs_df = cleaned_df.groupby([\"Drug Regimen\"])\n",
    "#grouped_drugs_df.describe()"
   ]
  },
  {
   "cell_type": "code",
   "execution_count": null,
   "metadata": {},
   "outputs": [],
   "source": [
    "# Generate a bar plot showing the total number of mice for each treatment throughout the course of the study using pandas.\n",
    "drug_mouse_count_df = grouped_drugs_df.count()\n",
    "\n",
    "drug_mouse_count_df = drug_mouse_count_df.loc[:,\"Mouse ID\"]\n",
    "#print (drug_mouse_count_df)\n",
    "drug_mouse_count_df.plot.bar()"
   ]
  },
  {
   "cell_type": "code",
   "execution_count": null,
   "metadata": {},
   "outputs": [],
   "source": [
    "# Generate a bar plot showing the total number of mice for each treatment throughout the course of the study using pyplot.\n",
    "#drug_mouse_count_df\n",
    "x_axis = drug_mouse_count_df.index\n",
    "\n",
    "plt.bar(x_axis, drug_mouse_count_df, color=\"b\", align=\"center\")"
   ]
  },
  {
   "cell_type": "code",
   "execution_count": null,
   "metadata": {},
   "outputs": [],
   "source": [
    "# Generate a pie plot showing the distribution of female versus male mice using pandas\n",
    "grouped_sex_df = cleaned_df.groupby([\"Sex\"])\n",
    "#grouped_sex_df.describe()\n",
    "\n",
    "grouped_sex_ct = grouped_sex_df.count()\n",
    "grouped_sex_ct = grouped_sex_ct.loc[:,\"Mouse ID\"]\n",
    "grouped_sex_ct.plot.pie()"
   ]
  },
  {
   "cell_type": "code",
   "execution_count": null,
   "metadata": {},
   "outputs": [],
   "source": [
    "# Generate a pie plot showing the distribution of female versus male mice using pyplot\n",
    "labels = grouped_sex_ct.index\n",
    "\n",
    "plt.pie(grouped_sex_ct, autopct=\"%1.1f%%\", labels=labels, startangle=90)"
   ]
  },
  {
   "cell_type": "code",
   "execution_count": null,
   "metadata": {},
   "outputs": [],
   "source": [
    "# Calculate the final tumor volume of each mouse across four of the treatment regimens:\n",
    "# Capomulin, Ramicane, Infubinol, and Ceftamin\n",
    "\n",
    "# Start by getting the last (greatest) timepoint for each mouse\n",
    "# Merge this group df with the original dataframe to get the tumor volume at the last timepoint\n",
    "mouse_treatments_df = cleaned_df[[\"Drug Regimen\",\"Mouse ID\", \"Timepoint\"]]\n",
    "mouse_treatments_df = mouse_treatments_df.sort_values([\"Mouse ID\", \"Timepoint\"])\n",
    "mouse_treatments_df = mouse_treatments_df.drop_duplicates(\"Mouse ID\", keep=\"last\", inplace=False)\n",
    "drugs = [\"Capomulin\", \"Ramicane\", \"Infubinol\", \"Ceftamin\"]\n",
    "mouse_treatments_df = mouse_treatments_df.loc[mouse_treatments_df[\"Drug Regimen\"].isin(drugs)]\n",
    "mouse_treatments_df = mouse_treatments_df.merge(cleaned_df)\n",
    "#mouse_treatments_df"
   ]
  },
  {
   "cell_type": "code",
   "execution_count": null,
   "metadata": {
    "scrolled": true
   },
   "outputs": [],
   "source": [
    "# Put treatments into a list for for loop (and later for plot labels)\n",
    "# Create empty list to fill with tumor vol data (for plotting)\n",
    "drug_regimens = [\"Capomulin\", \"Ramicane\", \"Infubinol\", \"Ceftamin\"]\n",
    "#volumes_for_drug_regimen=[]\n",
    "\n",
    "# Calculate the IQR and quantitatively determine if there are any potential outliers.\n",
    "for drug in drug_regimens:\n",
    "    print(drug)\n",
    "    #volumes_for_drug_regimen = mouse_treatments_df.loc[mouse_treatments_df[\"Drug Regimen\"] == drug,[\"Tumor Volume (mm3)\"]].values.tolist()\n",
    "    mouse_treatments_for_drug_df = mouse_treatments_df.loc[mouse_treatments_df[\"Drug Regimen\"] == drug,[\"Tumor Volume (mm3)\"]]\n",
    "    #print(mouse_treatments_for_drug_df)\n",
    "    volumes_for_drug_regimen = mouse_treatments_for_drug_df[\"Tumor Volume (mm3)\"]\n",
    "    quartiles = volumes_for_drug_regimen.quantile([.25,.5,.75])\n",
    "    lowerq = quartiles[0.25]\n",
    "    upperq = quartiles[0.75]\n",
    "    iqr = upperq-lowerq\n",
    "    print(f\"The lower quartile of temperatures is: {lowerq}\")\n",
    "    print(f\"The upper quartile of temperatures is: {upperq}\")\n",
    "    print(f\"The interquartile range of temperatures is: {iqr}\")\n",
    "    print(f\"The the median of temperatures is: {quartiles[0.5]} \")\n",
    "    lower_bound = lowerq - (1.5*iqr)\n",
    "    upper_bound = upperq + (1.5*iqr)\n",
    "    print(f\"Values below {lower_bound} could be outliers.\")\n",
    "    print(f\"Values above {upper_bound} could be outliers.\")\n",
    "    \n",
    "    # Determine outliers using upper and lower bounds\n",
    "    #tumor_volumes_df = volumes_for_drug_regimen[\"Tumor Volume (mm3)\"]\n",
    "    fig1, ax1 = plt.subplots()\n",
    "    ax1.set_title(drug)\n",
    "    ax1.set_ylabel('Tumor Volume')\n",
    "    # Generate a box plot of the final tumor volume of each mouse across four regimens of interest\n",
    "    ax1.boxplot(volumes_for_drug_regimen)\n",
    "    plt.show()"
   ]
  },
  {
   "cell_type": "code",
   "execution_count": null,
   "metadata": {},
   "outputs": [],
   "source": [
    "# Generate a line plot of time point versus tumor volume for a mouse treated with Capomulin\n",
    "mouse_trial_1 = combined_data_df.loc[combined_data_df['Mouse ID'] == 's185']\n",
    "mouse_trial_1.head()\n",
    "x_axis = mouse_trial_1['Timepoint']\n",
    "volumes = mouse_trial_1['Tumor Volume (mm3)']\n",
    "plt.xlabel(\"Timepoint\")\n",
    "plt.ylabel(\"Tumor Volume\")\n",
    "plt.title(f\"Capomulin, Mouse ID: s185 \")\n",
    "plt.plot(x_axis, volumes)\n",
    "plt.show()"
   ]
  },
  {
   "cell_type": "code",
   "execution_count": null,
   "metadata": {},
   "outputs": [],
   "source": [
    "# Generate a scatter plot of mouse weight versus average tumor volume for the Capomulin regimen\n",
    "capomulin_data_df = combined_data_df[{'Drug Regimen', 'Mouse ID', 'Weight (g)', 'Tumor Volume (mm3)'}]\n",
    "capomulin_data_df = capomulin_data_df.loc[capomulin_data_df['Drug Regimen'] == 'Capomulin']\n",
    "capomulin_group_df = capomulin_data_df.groupby(['Drug Regimen', 'Weight (g)']).mean()\n",
    "x_axis = capomulin_group_df.index.get_level_values('Weight (g)').values\n",
    "y_axis = capomulin_group_df['Tumor Volume (mm3)'].values\n",
    "plt.scatter(x_axis, y_axis, marker=\"o\", facecolors=\"red\", edgecolors=\"black\")\n",
    "plt.xlabel('Mouse Weight')\n",
    "plt.ylabel('Avg Tumor Volume')\n",
    "plt.title(f\"Capomulin Regimen\")\n",
    "plt.show()"
   ]
  },
  {
   "cell_type": "code",
   "execution_count": null,
   "metadata": {},
   "outputs": [],
   "source": [
    "# Calculate the correlation coefficient and linear regression model \n",
    "# for mouse weight and average tumor volume for the Capomulin regimen\n",
    "\n",
    "# Correlation Coefficient\n",
    "correlation = st.pearsonr(x_axis,y_axis)\n",
    "print(f\"The correlation between both factors is {round(correlation[0],2)}\")\n",
    "\n",
    "#Linear Regression Model\n",
    "(slope, intercept, rvalue, pvalue, stderr) = linregress(x_axis, y_axis)\n",
    "regress_values = x_axis * slope + intercept\n",
    "line_eq = \"y = \" + str(round(slope,2)) + \"x + \" + str(round(intercept,2))\n",
    "plt.scatter(x_axis,y_axis)\n",
    "plt.plot(x_axis,regress_values,\"r-\")\n",
    "plt.annotate(line_eq,(6,10),fontsize=15,color=\"red\")\n",
    "plt.xlabel('Mouse Weight')\n",
    "plt.ylabel('Average Tumor Volume')\n",
    "plt.title(f\"Capomulin Regimen\")\n",
    "plt.show()"
   ]
  },
  {
   "cell_type": "code",
   "execution_count": null,
   "metadata": {},
   "outputs": [],
   "source": []
  }
 ],
 "metadata": {
  "kernelspec": {
   "display_name": "Python 3",
   "language": "python",
   "name": "python3"
  },
  "language_info": {
   "codemirror_mode": {
    "name": "ipython",
    "version": 3
   },
   "file_extension": ".py",
   "mimetype": "text/x-python",
   "name": "python",
   "nbconvert_exporter": "python",
   "pygments_lexer": "ipython3",
   "version": "3.7.6"
  }
 },
 "nbformat": 4,
 "nbformat_minor": 4
}
